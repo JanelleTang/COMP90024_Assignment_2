{
 "cells": [
  {
   "cell_type": "code",
   "execution_count": 44,
   "metadata": {},
   "outputs": [],
   "source": [
    "from nltk.corpus import twitter_samples\n",
    "from sklearn.model_selection import train_test_split\n",
    "from nltk.tokenize.casual import TweetTokenizer\n",
    "from sklearn.feature_extraction.text import CountVectorizer\n",
    "import numpy as np\n",
    "from sklearn.naive_bayes import MultinomialNB\n",
    "from joblib import dump, load"
   ]
  },
  {
   "cell_type": "code",
   "execution_count": 34,
   "metadata": {},
   "outputs": [
    {
     "data": {
      "text/plain": [
       "['negative_tweets.json', 'positive_tweets.json', 'tweets.20150430-223406.json']"
      ]
     },
     "execution_count": 34,
     "metadata": {},
     "output_type": "execute_result"
    }
   ],
   "source": [
    "## available data set in nltk twitter corpus\n",
    "\n",
    "twitter_samples.fileids()"
   ]
  },
  {
   "cell_type": "code",
   "execution_count": 35,
   "metadata": {},
   "outputs": [],
   "source": [
    "## pull both negative and positive tweet samples\n",
    "negTweetsSet = twitter_samples.strings('negative_tweets.json')\n",
    "posTweetsSet = twitter_samples.strings('positive_tweets.json')"
   ]
  },
  {
   "cell_type": "code",
   "execution_count": 36,
   "metadata": {},
   "outputs": [],
   "source": [
    "## generate a training and development set for tweets\n",
    "\n",
    "trainPos, devPos, trainNeg, devNeg = train_test_split(posTweetsSet,negTweetsSet,train_size = .75)"
   ]
  },
  {
   "cell_type": "code",
   "execution_count": 37,
   "metadata": {},
   "outputs": [],
   "source": [
    "## combine negative and positive sets, and generate class labels for them\n",
    "\n",
    "trainXStrings = trainPos + trainNeg\n",
    "trainY = np.array([1 for x in trainPos] + [0 for x in trainNeg])\n",
    "devXStrings = devPos + devNeg\n",
    "devY = np.array([1 for x in devPos] + [0 for x in devNeg])"
   ]
  },
  {
   "cell_type": "code",
   "execution_count": 38,
   "metadata": {},
   "outputs": [],
   "source": [
    "## tokenizer splits strings into word tokens\n",
    "## countvectorizer generates bag of words representation for tweets\n",
    "\n",
    "tokenizer = TweetTokenizer(strip_handles=True)\n",
    "cv = CountVectorizer(lowercase = False, stop_words = 'english',tokenizer=tokenizer.tokenize)\n",
    "trainX = cv.fit_transform(trainXStrings)\n",
    "devX = cv.transform(devXStrings)\n"
   ]
  },
  {
   "cell_type": "code",
   "execution_count": 39,
   "metadata": {},
   "outputs": [
    {
     "data": {
      "text/plain": [
       "MultinomialNB()"
      ]
     },
     "execution_count": 39,
     "metadata": {},
     "output_type": "execute_result"
    }
   ],
   "source": [
    "## generate model and fit to training set\n",
    "\n",
    "sentModel = MultinomialNB()\n",
    "\n",
    "sentModel.fit(trainX,trainY)"
   ]
  },
  {
   "cell_type": "code",
   "execution_count": 40,
   "metadata": {},
   "outputs": [
    {
     "data": {
      "text/plain": [
       "0.9968"
      ]
     },
     "execution_count": 40,
     "metadata": {},
     "output_type": "execute_result"
    }
   ],
   "source": [
    "## score for development data\n",
    "\n",
    "sentModel.score(devX,devY)"
   ]
  },
  {
   "cell_type": "code",
   "execution_count": 45,
   "metadata": {},
   "outputs": [
    {
     "data": {
      "text/plain": [
       "['countVectorizer.joblib']"
      ]
     },
     "execution_count": 45,
     "metadata": {},
     "output_type": "execute_result"
    }
   ],
   "source": [
    "## model and vectorizer to be used in data intake pipeline\n",
    "\n",
    "dump(sentModel,'sentimentAnalysisModel.joblib')\n",
    "dump(cv,'countVectorizer.joblib')"
   ]
  },
  {
   "cell_type": "code",
   "execution_count": null,
   "metadata": {},
   "outputs": [],
   "source": []
  }
 ],
 "metadata": {
  "kernelspec": {
   "display_name": "Python 3",
   "language": "python",
   "name": "python3"
  },
  "language_info": {
   "codemirror_mode": {
    "name": "ipython",
    "version": 3
   },
   "file_extension": ".py",
   "mimetype": "text/x-python",
   "name": "python",
   "nbconvert_exporter": "python",
   "pygments_lexer": "ipython3",
   "version": "3.8.6"
  }
 },
 "nbformat": 4,
 "nbformat_minor": 4
}
